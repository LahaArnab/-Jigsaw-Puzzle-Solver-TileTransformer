{
 "cells": [
  {
   "cell_type": "code",
   "execution_count": null,
   "metadata": {},
   "outputs": [],
   "source": [
    "\n",
    "\n",
    "import os\n",
    "import math\n",
    "import random\n",
    "import argparse \n",
    "from pathlib import Path\n",
    "from PIL import Image\n",
    "import numpy as np\n",
    "import pandas as pd\n",
    "from tqdm import tqdm\n",
    "\n",
    "import torch\n",
    "import torch.nn as nn\n",
    "import torch.nn.functional as F\n",
    "from torch.utils.data import Dataset, DataLoader\n",
    "from torchvision import transforms, models\n",
    "\n",
    "from sklearn.model_selection import train_test_split\n",
    "from scipy.optimize import linear_sum_assignment\n",
    "\n",
    "\n",
    "# Dataset (Updated)\n",
    "class JigsawDataset(Dataset):\n",
    "    \"\"\"\n",
    "    Assumes CSV with columns: \"Image ID\" (image file name) and \"Label\" (permutation string)\n",
    "    \"\"\"\n",
    "    def __init__(self, csv_path, images_dir, image_size=201, transform=None):\n",
    "        self.df = pd.read_csv(csv_path)\n",
    "        self.images_dir = images_dir\n",
    "        self.transform = transform\n",
    "        self.image_size = image_size  \n",
    "        assert image_size % 3 == 0, \"image_size must be divisible by 3\"\n",
    "\n",
    "    def __len__(self):\n",
    "        return len(self.df)\n",
    "\n",
    "    def __getitem__(self, idx):\n",
    "        row = self.df.iloc[idx]\n",
    "        \n",
    "        img_name = row['image']\n",
    "        label = row['label']\n",
    "        \n",
    "        img_path = os.path.join(self.images_dir, img_name)\n",
    "        img = Image.open(img_path).convert('RGB')\n",
    "        img = img.resize((self.image_size, self.image_size), Image.BILINEAR)\n",
    "        img = np.array(img).astype(np.float32) / 255.0\n",
    "        cut = self.image_size // 3\n",
    "        \n",
    "        # tiles: list of (C,H,W)\n",
    "        tiles = []\n",
    "        for i in range(3):\n",
    "            for j in range(3):\n",
    "                tile = img[i*cut:(i+1)*cut, j*cut:(j+1)*cut, :]\n",
    "                tile_img = Image.fromarray((tile * 255).astype(np.uint8))\n",
    "                if self.transform:\n",
    "                    tile_img = self.transform(tile_img)\n",
    "                else:\n",
    "                    transform = transforms.Compose([\n",
    "                        transforms.ToTensor(),\n",
    "                        transforms.Normalize(mean=[0.485,0.456,0.406],\n",
    "                                             std=[0.229,0.224,0.225])\n",
    "                    ])\n",
    "                    tile_img = transform(tile_img)\n",
    "                tiles.append(tile_img)  # C,H,W\n",
    "        tiles = torch.stack(tiles)  # shape (9, C, H, W)\n",
    "\n",
    "        label_list = [int(x) for x in str(label).split()]\n",
    "        label_tensor = torch.tensor(label_list, dtype=torch.long)  # shape (9,)\n",
    "        return tiles, label_tensor, img_name\n",
    "    \n",
    "# Model: per-tile encoder -> transformer -> per-tile logits over positions\n",
    "\n",
    "class TileTransformer(nn.Module):\n",
    "    def __init__(self, tile_encoder='resnet18', embed_dim=512, nhead=8, nlayers=3, dropout=0.1):\n",
    "        super().__init__()\n",
    "        res = models.resnet18(pretrained=True)\n",
    "        res.fc = nn.Identity()\n",
    "        self.backbone = res  #  512-d for resnet18\n",
    "        self.embed_dim = 512\n",
    "        if self.embed_dim != embed_dim:\n",
    "            self.proj = nn.Linear(self.embed_dim, embed_dim)\n",
    "            final_dim = embed_dim\n",
    "        else:\n",
    "            self.proj = None\n",
    "            final_dim = self.embed_dim\n",
    "        encoder_layer = nn.TransformerEncoderLayer(d_model=final_dim, nhead=nhead, dropout=dropout, dim_feedforward=final_dim*4, activation='gelu')\n",
    "        self.transformer = nn.TransformerEncoder(encoder_layer, num_layers=nlayers)\n",
    "        self.head = nn.Linear(final_dim, 9)\n",
    "\n",
    "    def forward(self, tiles):\n",
    "        # tiles: (B, 9, C, H, W)\n",
    "        B = tiles.shape[0]\n",
    "        n = tiles.shape[1]  \n",
    "        tiles_flat = tiles.view(B*n, tiles.shape[2], tiles.shape[3], tiles.shape[4])\n",
    "        # run backbone per tile\n",
    "        x = self.backbone(tiles_flat)  \n",
    "        if self.proj is not None:\n",
    "            x = self.proj(x)  \n",
    "        x = x.view(B, n, -1)  # (B, 9, D)\n",
    "        # transformer expects seq_len, batch, dim\n",
    "        x_t = x.permute(1, 0, 2)\n",
    "        x_out = self.transformer(x_t)  \n",
    "        x_out = x_out.permute(1, 0, 2)  \n",
    "        logits = self.head(x_out)  # per tile logits over positions\n",
    "        return logits\n",
    "\n",
    "def hungarian_from_logits(logits):\n",
    "    \"\"\"\n",
    "    logits: numpy array shape (9,9) or tensor -> we compute assignment that maximizes sum of logit chosen.\n",
    "    Returns a permutation list p of length 9 where p[tile_index] = assigned_position\n",
    "    (tile i assigned to position p[i]).\n",
    "    \"\"\"\n",
    "    if isinstance(logits, torch.Tensor):\n",
    "        arr = logits.detach().cpu().numpy()\n",
    "    else:\n",
    "        arr = np.array(logits)\n",
    "    cost = -arr\n",
    "    row_ind, col_ind = linear_sum_assignment(cost)\n",
    "    perm = [-1]*arr.shape[0]\n",
    "    for r,c in zip(row_ind, col_ind):\n",
    "        perm[r] = int(c)\n",
    "    return perm\n",
    "\n",
    "def compute_pra(pred_perm, true_perm):\n",
    "    \"\"\"pred_perm and true_perm are lists length 9, perm[i] = position for tile i\"\"\"\n",
    "    return int(pred_perm == true_perm)\n",
    "\n",
    "def compute_paa(pred_perm, true_perm):\n",
    "    \"\"\"Pairwise Adjacency Accuracy (4-neighbor). For each adjacent pair in grid positions,\n",
    "       check if that adjacency is preserved in prediction.\n",
    "       We'll compute count_correct_pairs / total_pairs.\n",
    "    \"\"\"\n",
    "    inv_pred = {pos: i for i,pos in enumerate(pred_perm)}\n",
    "    inv_true = {pos: i for i,pos in enumerate(true_perm)}\n",
    "    neighbor_pairs = []\n",
    "    for r in range(3):\n",
    "        for c in range(3):\n",
    "            pos = r*3 + c\n",
    "            if c < 2:\n",
    "                neighbor_pairs.append((pos, pos+1))\n",
    "            if r < 2:\n",
    "                neighbor_pairs.append((pos, pos+3))\n",
    "    total = len(neighbor_pairs)\n",
    "    correct = 0\n",
    "    for a,b in neighbor_pairs:\n",
    "        tile_a_true = inv_true[a]\n",
    "        tile_b_true = inv_true[b]\n",
    "        pred_pos_a = pred_perm[tile_a_true]\n",
    "        pred_pos_b = pred_perm[tile_b_true]\n",
    "        ra, ca = divmod(pred_pos_a, 3)\n",
    "        rb, cb = divmod(pred_pos_b, 3)\n",
    "        if abs(ra-rb) + abs(ca-cb) == 1:\n",
    "            correct += 1\n",
    "    return correct / total if total > 0 else 0.0\n",
    "\n",
    "# Training & eval loops\n",
    "def train_one_epoch(model, dataloader, opt, device):\n",
    "    model.train()\n",
    "    total_loss = 0.0\n",
    "    for tiles, labels, _ in tqdm(dataloader, desc=\"train\"):\n",
    "        tiles = tiles.to(device) \n",
    "        labels = labels.to(device)  \n",
    "        opt.zero_grad()\n",
    "        logits = model(tiles)  \n",
    "        B = logits.shape[0]\n",
    "        logits_flat = logits.view(B*9, 9)\n",
    "        labels_flat = labels.view(B*9)\n",
    "        loss = F.cross_entropy(logits_flat, labels_flat)\n",
    "        loss.backward()\n",
    "        opt.step()\n",
    "        total_loss += loss.item() * tiles.shape[0]\n",
    "    return total_loss / len(dataloader.dataset)\n",
    "\n",
    "def evaluate(model, dataloader, device):\n",
    "    model.eval()\n",
    "    total_pra = 0\n",
    "    total_paa = 0.0\n",
    "    n = 0\n",
    "    with torch.no_grad():\n",
    "        for tiles, labels, _ in tqdm(dataloader, desc=\"eval\"):\n",
    "            tiles = tiles.to(device)\n",
    "            labels = labels.to(device)\n",
    "            logits = model(tiles)  # (B,9,9)\n",
    "            B = logits.shape[0]\n",
    "            for i in range(B):\n",
    "                perm = hungarian_from_logits(logits[i])\n",
    "                true = labels[i].cpu().numpy().tolist()\n",
    "                total_pra += compute_pra(perm, true)\n",
    "                total_paa += compute_paa(perm, true)\n",
    "                n += 1\n",
    "    pra = total_pra / n\n",
    "    paa = total_paa / n\n",
    "    return pra, paa\n",
    "\n",
    "# Inference helper for single image -> permutation string\n",
    "def infer_single_image(model, image_path, image_size=201, device='cpu'):\n",
    "    transform = transforms.Compose([\n",
    "        transforms.Resize((image_size, image_size)),\n",
    "    ])\n",
    "    img = Image.open(image_path).convert('RGB')\n",
    "    img = img.resize((image_size, image_size), Image.BILINEAR)\n",
    "    img = np.array(img).astype(np.uint8)\n",
    "    cut = image_size // 3\n",
    "    tiles = []\n",
    "    to_tensor = transforms.Compose([\n",
    "        transforms.ToTensor(),\n",
    "        transforms.Normalize(mean=[0.485,0.456,0.406],\n",
    "                             std=[0.229,0.224,0.225])\n",
    "    ])\n",
    "    for i in range(3):\n",
    "        for j in range(3):\n",
    "            tile = img[i*cut:(i+1)*cut, j*cut:(j+1)*cut, :]\n",
    "            tile_img = Image.fromarray(tile)\n",
    "            tiles.append(to_tensor(tile_img))\n",
    "    tiles = torch.stack(tiles).unsqueeze(0).to(device)  # (1,9,C,H,W)\n",
    "    model.eval()\n",
    "    with torch.no_grad():\n",
    "        logits = model(tiles)[0]  # (9,9)\n",
    "        perm = hungarian_from_logits(logits)\n",
    "    return perm\n",
    "\n",
    "# Main & arg parsing\n",
    "def main(args):\n",
    "    device = torch.device('cuda' if torch.cuda.is_available() and not args.force_cpu else 'cpu')\n",
    "    print(\"Using device:\", device)\n",
    "\n",
    "    train_transform = transforms.Compose([\n",
    "        transforms.RandomResizedCrop(size=args.tile_size, scale=(0.8,1.0)),\n",
    "        transforms.RandomHorizontalFlip(),\n",
    "        transforms.ToTensor(),\n",
    "        transforms.Normalize(mean=[0.485,0.456,0.406],\n",
    "                             std=[0.229,0.224,0.225])\n",
    "    ])\n",
    "    image_size = args.tile_size * 3\n",
    "\n",
    "    ds = JigsawDataset(args.csv, args.images_dir, image_size=image_size, transform=None) # Pass None to use default\n",
    "    \n",
    "    \n",
    "    idxs = list(range(len(ds)))\n",
    "    train_idx, val_idx = train_test_split(idxs, test_size=args.val_frac, random_state=42)\n",
    "    train_ds = torch.utils.data.Subset(ds, train_idx)\n",
    "    val_ds = torch.utils.data.Subset(ds, val_idx)\n",
    "    \n",
    "    def collate_fn(batch):\n",
    "        tiles = torch.stack([b[0] for b in batch], dim=0)  # (B,9,C,H,W)\n",
    "        labels = torch.stack([b[1] for b in batch], dim=0)\n",
    "        names = [b[2] for b in batch]\n",
    "        \n",
    "        return tiles, labels, names\n",
    "\n",
    "    train_loader = DataLoader(train_ds, batch_size=args.batch_size, shuffle=True, num_workers=2, collate_fn=collate_fn, pin_memory=True)\n",
    "    val_loader = DataLoader(val_ds, batch_size=args.batch_size, shuffle=False, num_workers=2, collate_fn=collate_fn, pin_memory=True)\n",
    "\n",
    "    model = TileTransformer(tile_encoder='resnet18', embed_dim=512, nhead=8, nlayers=3).to(device)\n",
    "    opt = torch.optim.AdamW(model.parameters(), lr=args.lr, weight_decay=1e-4)\n",
    "    scheduler = torch.optim.lr_scheduler.StepLR(opt, step_size=10, gamma=0.5)\n",
    "\n",
    "    best_pra = -1.0\n",
    "    for epoch in range(args.epochs):\n",
    "        print(f\"Epoch {epoch+1}/{args.epochs}\")\n",
    "        train_loss = train_one_epoch(model, train_loader, opt, device)\n",
    "        pra, paa = evaluate(model, val_loader, device)\n",
    "        print(f\"Train loss: {train_loss:.4f}  Val PRA: {pra:.4f}  Val PAA: {paa:.4f}\")\n",
    "        if pra > best_pra:\n",
    "            best_pra = pra\n",
    "            torch.save(model.state_dict(), args.save_model)\n",
    "            print(\"Saved best model:\", args.save_model)\n",
    "        scheduler.step()\n",
    "\n",
    "    print(f\"Training complete. Best model saved to {args.save_model} with PRA: {best_pra:.4f}\")\n",
    "    if args.test_image:\n",
    "        print(f\"Running inference on: {args.test_image}\")\n",
    "        model.load_state_dict(torch.load(args.save_model, map_location=device))\n",
    "        perm = infer_single_image(model, args.test_image, image_size=image_size, device=device)\n",
    "        print(\"Predicted permutation string:\", \" \".join(str(x) for x in perm))"
   ]
  },
  {
   "cell_type": "code",
   "execution_count": null,
   "metadata": {},
   "outputs": [
    {
     "name": "stdout",
     "output_type": "stream",
     "text": [
      "Configuration loaded:\n",
      "{'csv': 'train.csv', 'images_dir': 'data/train/', 'save_model': 'best_jigsaw.pth', 'test_image': '', 'tile_size': 67, 'batch_size': 16, 'epochs': 100, 'lr': 0.0001, 'val_frac': 0.1, 'force_cpu': False}\n"
     ]
    }
   ],
   "source": [
    "\n",
    "import argparse \n",
    "\n",
    "args = argparse.Namespace()\n",
    "\n",
    "args.csv = \"train.csv\"\n",
    "args.images_dir = \"train/\"\n",
    "args.save_model = \"best_jigsaw.pth\"\n",
    "args.test_image = \"\"  \n",
    "\n",
    "args.tile_size = 67  \n",
    "\n",
    "args.batch_size = 16\n",
    "args.epochs = 100\n",
    "args.lr = 1e-4\n",
    "args.val_frac = 0.1\n",
    "\n",
    "args.force_cpu = False\n",
    "\n",
    "print(\"Configuration loaded:\")\n",
    "print(vars(args))"
   ]
  },
  {
   "cell_type": "code",
   "execution_count": null,
   "metadata": {},
   "outputs": [
    {
     "name": "stdout",
     "output_type": "stream",
     "text": [
      "Using device: cuda\n"
     ]
    },
    {
     "name": "stderr",
     "output_type": "stream",
     "text": [
      "/home/zeus/miniconda3/envs/cloudspace/lib/python3.12/site-packages/torchvision/models/_utils.py:208: UserWarning: The parameter 'pretrained' is deprecated since 0.13 and may be removed in the future, please use 'weights' instead.\n",
      "  warnings.warn(\n",
      "/home/zeus/miniconda3/envs/cloudspace/lib/python3.12/site-packages/torchvision/models/_utils.py:223: UserWarning: Arguments other than a weight enum or `None` for 'weights' are deprecated since 0.13 and may be removed in the future. The current behavior is equivalent to passing `weights=ResNet18_Weights.IMAGENET1K_V1`. You can also use `weights=ResNet18_Weights.DEFAULT` to get the most up-to-date weights.\n",
      "  warnings.warn(msg)\n",
      "/home/zeus/miniconda3/envs/cloudspace/lib/python3.12/site-packages/torch/nn/modules/transformer.py:392: UserWarning: enable_nested_tensor is True, but self.use_nested_tensor is False because encoder_layer.self_attn.batch_first was not True(use batch_first for better inference performance)\n",
      "  warnings.warn(\n"
     ]
    },
    {
     "name": "stdout",
     "output_type": "stream",
     "text": [
      "Epoch 1/100\n"
     ]
    },
    {
     "name": "stderr",
     "output_type": "stream",
     "text": [
      "train:   0%|          | 13/5240 [00:00<02:18, 37.66it/s]"
     ]
    },
    {
     "name": "stderr",
     "output_type": "stream",
     "text": [
      "train: 100%|██████████| 5240/5240 [01:52<00:00, 46.76it/s]\n",
      "eval: 100%|██████████| 583/583 [00:12<00:00, 45.77it/s]\n"
     ]
    },
    {
     "name": "stdout",
     "output_type": "stream",
     "text": [
      "Train loss: 1.0811  Val PRA: 0.5077  Val PAA: 0.8042\n",
      "Saved best model: best_jigsaw.pth\n",
      "Epoch 2/100\n"
     ]
    },
    {
     "name": "stderr",
     "output_type": "stream",
     "text": [
      "train: 100%|██████████| 5240/5240 [01:55<00:00, 45.26it/s]\n",
      "eval: 100%|██████████| 583/583 [00:12<00:00, 45.73it/s]\n"
     ]
    },
    {
     "name": "stdout",
     "output_type": "stream",
     "text": [
      "Train loss: 0.5463  Val PRA: 0.7588  Val PAA: 0.9110\n",
      "Saved best model: best_jigsaw.pth\n",
      "Epoch 3/100\n"
     ]
    },
    {
     "name": "stderr",
     "output_type": "stream",
     "text": [
      "train: 100%|██████████| 5240/5240 [01:54<00:00, 45.61it/s]\n",
      "eval: 100%|██████████| 583/583 [00:13<00:00, 44.62it/s]\n"
     ]
    },
    {
     "name": "stdout",
     "output_type": "stream",
     "text": [
      "Train loss: 0.3111  Val PRA: 0.8308  Val PAA: 0.9385\n",
      "Saved best model: best_jigsaw.pth\n",
      "Epoch 4/100\n"
     ]
    },
    {
     "name": "stderr",
     "output_type": "stream",
     "text": [
      "train: 100%|██████████| 5240/5240 [01:56<00:00, 45.04it/s]\n",
      "eval: 100%|██████████| 583/583 [00:13<00:00, 44.19it/s]\n"
     ]
    },
    {
     "name": "stdout",
     "output_type": "stream",
     "text": [
      "Train loss: 0.2126  Val PRA: 0.8696  Val PAA: 0.9543\n",
      "Saved best model: best_jigsaw.pth\n",
      "Epoch 5/100\n"
     ]
    },
    {
     "name": "stderr",
     "output_type": "stream",
     "text": [
      "train: 100%|██████████| 5240/5240 [01:50<00:00, 47.22it/s]\n",
      "eval: 100%|██████████| 583/583 [00:12<00:00, 47.81it/s]\n"
     ]
    },
    {
     "name": "stdout",
     "output_type": "stream",
     "text": [
      "Train loss: 0.1591  Val PRA: 0.8930  Val PAA: 0.9621\n",
      "Saved best model: best_jigsaw.pth\n",
      "Epoch 6/100\n"
     ]
    },
    {
     "name": "stderr",
     "output_type": "stream",
     "text": [
      "train: 100%|██████████| 5240/5240 [01:49<00:00, 47.74it/s]\n",
      "eval: 100%|██████████| 583/583 [00:12<00:00, 47.45it/s]\n"
     ]
    },
    {
     "name": "stdout",
     "output_type": "stream",
     "text": [
      "Train loss: 0.1289  Val PRA: 0.9067  Val PAA: 0.9681\n",
      "Saved best model: best_jigsaw.pth\n",
      "Epoch 7/100\n"
     ]
    },
    {
     "name": "stderr",
     "output_type": "stream",
     "text": [
      "train: 100%|██████████| 5240/5240 [01:48<00:00, 48.27it/s]\n",
      "eval: 100%|██████████| 583/583 [00:12<00:00, 47.70it/s]\n"
     ]
    },
    {
     "name": "stdout",
     "output_type": "stream",
     "text": [
      "Train loss: 0.1098  Val PRA: 0.9093  Val PAA: 0.9686\n",
      "Saved best model: best_jigsaw.pth\n",
      "Epoch 8/100\n"
     ]
    },
    {
     "name": "stderr",
     "output_type": "stream",
     "text": [
      "train: 100%|██████████| 5240/5240 [01:50<00:00, 47.27it/s]\n",
      "eval: 100%|██████████| 583/583 [00:12<00:00, 47.79it/s]\n"
     ]
    },
    {
     "name": "stdout",
     "output_type": "stream",
     "text": [
      "Train loss: 0.0949  Val PRA: 0.9167  Val PAA: 0.9713\n",
      "Saved best model: best_jigsaw.pth\n",
      "Epoch 9/100\n"
     ]
    },
    {
     "name": "stderr",
     "output_type": "stream",
     "text": [
      "train: 100%|██████████| 5240/5240 [01:50<00:00, 47.44it/s]\n",
      "eval: 100%|██████████| 583/583 [00:11<00:00, 49.03it/s]\n"
     ]
    },
    {
     "name": "stdout",
     "output_type": "stream",
     "text": [
      "Train loss: 0.0857  Val PRA: 0.9259  Val PAA: 0.9752\n",
      "Saved best model: best_jigsaw.pth\n",
      "Epoch 10/100\n"
     ]
    },
    {
     "name": "stderr",
     "output_type": "stream",
     "text": [
      "train: 100%|██████████| 5240/5240 [01:49<00:00, 48.01it/s]\n",
      "eval: 100%|██████████| 583/583 [00:12<00:00, 47.32it/s]\n"
     ]
    },
    {
     "name": "stdout",
     "output_type": "stream",
     "text": [
      "Train loss: 0.0750  Val PRA: 0.9258  Val PAA: 0.9740\n",
      "Epoch 11/100\n"
     ]
    },
    {
     "name": "stderr",
     "output_type": "stream",
     "text": [
      "train: 100%|██████████| 5240/5240 [01:48<00:00, 48.35it/s]\n",
      "eval: 100%|██████████| 583/583 [00:12<00:00, 47.97it/s]\n"
     ]
    },
    {
     "name": "stdout",
     "output_type": "stream",
     "text": [
      "Train loss: 0.0372  Val PRA: 0.9509  Val PAA: 0.9839\n",
      "Saved best model: best_jigsaw.pth\n",
      "Epoch 12/100\n"
     ]
    },
    {
     "name": "stderr",
     "output_type": "stream",
     "text": [
      "train: 100%|██████████| 5240/5240 [01:49<00:00, 47.76it/s]\n",
      "eval: 100%|██████████| 583/583 [00:12<00:00, 48.44it/s]\n"
     ]
    },
    {
     "name": "stdout",
     "output_type": "stream",
     "text": [
      "Train loss: 0.0305  Val PRA: 0.9478  Val PAA: 0.9828\n",
      "Epoch 13/100\n"
     ]
    },
    {
     "name": "stderr",
     "output_type": "stream",
     "text": [
      "train: 100%|██████████| 5240/5240 [01:47<00:00, 48.88it/s]\n",
      "eval: 100%|██████████| 583/583 [00:12<00:00, 47.96it/s]\n"
     ]
    },
    {
     "name": "stdout",
     "output_type": "stream",
     "text": [
      "Train loss: 0.0285  Val PRA: 0.9494  Val PAA: 0.9829\n",
      "Epoch 14/100\n"
     ]
    },
    {
     "name": "stderr",
     "output_type": "stream",
     "text": [
      "train: 100%|██████████| 5240/5240 [01:47<00:00, 48.79it/s]\n",
      "eval: 100%|██████████| 583/583 [00:12<00:00, 47.47it/s]\n"
     ]
    },
    {
     "name": "stdout",
     "output_type": "stream",
     "text": [
      "Train loss: 0.0260  Val PRA: 0.9485  Val PAA: 0.9830\n",
      "Epoch 15/100\n"
     ]
    },
    {
     "name": "stderr",
     "output_type": "stream",
     "text": [
      "train: 100%|██████████| 5240/5240 [01:48<00:00, 48.20it/s]\n",
      "eval: 100%|██████████| 583/583 [00:11<00:00, 48.77it/s]\n"
     ]
    },
    {
     "name": "stdout",
     "output_type": "stream",
     "text": [
      "Train loss: 0.0237  Val PRA: 0.9529  Val PAA: 0.9844\n",
      "Saved best model: best_jigsaw.pth\n",
      "Epoch 16/100\n"
     ]
    },
    {
     "name": "stderr",
     "output_type": "stream",
     "text": [
      "train: 100%|██████████| 5240/5240 [01:52<00:00, 46.75it/s]\n",
      "eval: 100%|██████████| 583/583 [00:12<00:00, 45.48it/s]\n"
     ]
    },
    {
     "name": "stdout",
     "output_type": "stream",
     "text": [
      "Train loss: 0.0230  Val PRA: 0.9522  Val PAA: 0.9840\n",
      "Epoch 17/100\n"
     ]
    },
    {
     "name": "stderr",
     "output_type": "stream",
     "text": [
      "train: 100%|██████████| 5240/5240 [01:48<00:00, 48.32it/s]\n",
      "eval: 100%|██████████| 583/583 [00:12<00:00, 48.25it/s]\n"
     ]
    },
    {
     "name": "stdout",
     "output_type": "stream",
     "text": [
      "Train loss: 0.0225  Val PRA: 0.9530  Val PAA: 0.9844\n",
      "Saved best model: best_jigsaw.pth\n",
      "Epoch 18/100\n"
     ]
    },
    {
     "name": "stderr",
     "output_type": "stream",
     "text": [
      "train: 100%|██████████| 5240/5240 [01:49<00:00, 47.73it/s]\n",
      "eval: 100%|██████████| 583/583 [00:11<00:00, 48.62it/s]\n"
     ]
    },
    {
     "name": "stdout",
     "output_type": "stream",
     "text": [
      "Train loss: 0.0210  Val PRA: 0.9510  Val PAA: 0.9836\n",
      "Epoch 19/100\n"
     ]
    },
    {
     "name": "stderr",
     "output_type": "stream",
     "text": [
      "train: 100%|██████████| 5240/5240 [01:47<00:00, 48.61it/s]\n",
      "eval: 100%|██████████| 583/583 [00:12<00:00, 46.99it/s]\n"
     ]
    },
    {
     "name": "stdout",
     "output_type": "stream",
     "text": [
      "Train loss: 0.0206  Val PRA: 0.9533  Val PAA: 0.9845\n",
      "Saved best model: best_jigsaw.pth\n",
      "Epoch 20/100\n"
     ]
    },
    {
     "name": "stderr",
     "output_type": "stream",
     "text": [
      "train: 100%|██████████| 5240/5240 [01:51<00:00, 47.20it/s]\n",
      "eval: 100%|██████████| 583/583 [00:12<00:00, 48.32it/s]\n"
     ]
    },
    {
     "name": "stdout",
     "output_type": "stream",
     "text": [
      "Train loss: 0.0195  Val PRA: 0.9498  Val PAA: 0.9828\n",
      "Epoch 21/100\n"
     ]
    },
    {
     "name": "stderr",
     "output_type": "stream",
     "text": [
      "train: 100%|██████████| 5240/5240 [01:49<00:00, 48.06it/s]\n",
      "eval: 100%|██████████| 583/583 [00:12<00:00, 48.21it/s]\n"
     ]
    },
    {
     "name": "stdout",
     "output_type": "stream",
     "text": [
      "Train loss: 0.0121  Val PRA: 0.9617  Val PAA: 0.9870\n",
      "Saved best model: best_jigsaw.pth\n",
      "Epoch 22/100\n"
     ]
    },
    {
     "name": "stderr",
     "output_type": "stream",
     "text": [
      "train: 100%|██████████| 5240/5240 [01:48<00:00, 48.19it/s]\n",
      "eval: 100%|██████████| 583/583 [00:12<00:00, 48.03it/s]\n"
     ]
    },
    {
     "name": "stdout",
     "output_type": "stream",
     "text": [
      "Train loss: 0.0100  Val PRA: 0.9554  Val PAA: 0.9853\n",
      "Epoch 23/100\n"
     ]
    },
    {
     "name": "stderr",
     "output_type": "stream",
     "text": [
      "train: 100%|██████████| 5240/5240 [01:47<00:00, 48.62it/s]\n",
      "eval: 100%|██████████| 583/583 [00:12<00:00, 47.83it/s]\n"
     ]
    },
    {
     "name": "stdout",
     "output_type": "stream",
     "text": [
      "Train loss: 0.0094  Val PRA: 0.9581  Val PAA: 0.9859\n",
      "Epoch 24/100\n"
     ]
    },
    {
     "name": "stderr",
     "output_type": "stream",
     "text": [
      "train: 100%|██████████| 5240/5240 [01:48<00:00, 48.37it/s]\n",
      "eval: 100%|██████████| 583/583 [00:12<00:00, 48.30it/s]\n"
     ]
    },
    {
     "name": "stdout",
     "output_type": "stream",
     "text": [
      "Train loss: 0.0087  Val PRA: 0.9590  Val PAA: 0.9865\n",
      "Epoch 25/100\n"
     ]
    },
    {
     "name": "stderr",
     "output_type": "stream",
     "text": [
      "train: 100%|██████████| 5240/5240 [01:50<00:00, 47.48it/s]\n",
      "eval: 100%|██████████| 583/583 [00:12<00:00, 46.86it/s]\n"
     ]
    },
    {
     "name": "stdout",
     "output_type": "stream",
     "text": [
      "Train loss: 0.0083  Val PRA: 0.9578  Val PAA: 0.9856\n",
      "Epoch 26/100\n"
     ]
    },
    {
     "name": "stderr",
     "output_type": "stream",
     "text": [
      "train: 100%|██████████| 5240/5240 [01:50<00:00, 47.35it/s]\n",
      "eval: 100%|██████████| 583/583 [00:11<00:00, 49.00it/s]\n"
     ]
    },
    {
     "name": "stdout",
     "output_type": "stream",
     "text": [
      "Train loss: 0.0085  Val PRA: 0.9603  Val PAA: 0.9865\n",
      "Epoch 27/100\n"
     ]
    },
    {
     "name": "stderr",
     "output_type": "stream",
     "text": [
      "train: 100%|██████████| 5240/5240 [01:46<00:00, 49.13it/s]\n",
      "eval: 100%|██████████| 583/583 [00:11<00:00, 48.98it/s]\n"
     ]
    },
    {
     "name": "stdout",
     "output_type": "stream",
     "text": [
      "Train loss: 0.0077  Val PRA: 0.9621  Val PAA: 0.9873\n",
      "Saved best model: best_jigsaw.pth\n",
      "Epoch 28/100\n"
     ]
    },
    {
     "name": "stderr",
     "output_type": "stream",
     "text": [
      "train: 100%|██████████| 5240/5240 [01:51<00:00, 47.19it/s]\n",
      "eval: 100%|██████████| 583/583 [00:12<00:00, 47.50it/s]\n"
     ]
    },
    {
     "name": "stdout",
     "output_type": "stream",
     "text": [
      "Train loss: 0.0074  Val PRA: 0.9608  Val PAA: 0.9868\n",
      "Epoch 29/100\n"
     ]
    },
    {
     "name": "stderr",
     "output_type": "stream",
     "text": [
      "train: 100%|██████████| 5240/5240 [01:50<00:00, 47.60it/s]\n",
      "eval: 100%|██████████| 583/583 [00:12<00:00, 47.23it/s]\n"
     ]
    },
    {
     "name": "stdout",
     "output_type": "stream",
     "text": [
      "Train loss: 0.0073  Val PRA: 0.9574  Val PAA: 0.9857\n",
      "Epoch 30/100\n"
     ]
    },
    {
     "name": "stderr",
     "output_type": "stream",
     "text": [
      "train: 100%|██████████| 5240/5240 [01:48<00:00, 48.40it/s]\n",
      "eval: 100%|██████████| 583/583 [00:12<00:00, 48.04it/s]\n"
     ]
    },
    {
     "name": "stdout",
     "output_type": "stream",
     "text": [
      "Train loss: 0.0074  Val PRA: 0.9589  Val PAA: 0.9862\n",
      "Epoch 31/100\n"
     ]
    },
    {
     "name": "stderr",
     "output_type": "stream",
     "text": [
      "train: 100%|██████████| 5240/5240 [01:51<00:00, 46.88it/s]\n",
      "eval: 100%|██████████| 583/583 [00:12<00:00, 47.55it/s]\n"
     ]
    },
    {
     "name": "stdout",
     "output_type": "stream",
     "text": [
      "Train loss: 0.0050  Val PRA: 0.9610  Val PAA: 0.9869\n",
      "Epoch 32/100\n"
     ]
    },
    {
     "name": "stderr",
     "output_type": "stream",
     "text": [
      "train: 100%|██████████| 5240/5240 [01:48<00:00, 48.17it/s]\n",
      "eval: 100%|██████████| 583/583 [00:12<00:00, 48.32it/s]\n"
     ]
    },
    {
     "name": "stdout",
     "output_type": "stream",
     "text": [
      "Train loss: 0.0043  Val PRA: 0.9631  Val PAA: 0.9879\n",
      "Saved best model: best_jigsaw.pth\n",
      "Epoch 33/100\n"
     ]
    },
    {
     "name": "stderr",
     "output_type": "stream",
     "text": [
      "train: 100%|██████████| 5240/5240 [01:52<00:00, 46.66it/s]\n",
      "eval: 100%|██████████| 583/583 [00:12<00:00, 47.50it/s]\n"
     ]
    },
    {
     "name": "stdout",
     "output_type": "stream",
     "text": [
      "Train loss: 0.0041  Val PRA: 0.9614  Val PAA: 0.9873\n",
      "Epoch 34/100\n"
     ]
    },
    {
     "name": "stderr",
     "output_type": "stream",
     "text": [
      "train: 100%|██████████| 5240/5240 [01:48<00:00, 48.27it/s]\n",
      "eval: 100%|██████████| 583/583 [00:12<00:00, 48.13it/s]\n"
     ]
    },
    {
     "name": "stdout",
     "output_type": "stream",
     "text": [
      "Train loss: 0.0041  Val PRA: 0.9636  Val PAA: 0.9880\n",
      "Saved best model: best_jigsaw.pth\n",
      "Epoch 35/100\n"
     ]
    },
    {
     "name": "stderr",
     "output_type": "stream",
     "text": [
      "train: 100%|██████████| 5240/5240 [01:50<00:00, 47.56it/s]\n",
      "eval: 100%|██████████| 583/583 [00:12<00:00, 46.70it/s]\n"
     ]
    },
    {
     "name": "stdout",
     "output_type": "stream",
     "text": [
      "Train loss: 0.0036  Val PRA: 0.9594  Val PAA: 0.9867\n",
      "Epoch 36/100\n"
     ]
    },
    {
     "name": "stderr",
     "output_type": "stream",
     "text": [
      "train: 100%|██████████| 5240/5240 [01:48<00:00, 48.11it/s]\n",
      "eval: 100%|██████████| 583/583 [00:12<00:00, 46.94it/s]\n"
     ]
    },
    {
     "name": "stdout",
     "output_type": "stream",
     "text": [
      "Train loss: 0.0034  Val PRA: 0.9626  Val PAA: 0.9874\n",
      "Epoch 37/100\n"
     ]
    },
    {
     "name": "stderr",
     "output_type": "stream",
     "text": [
      "train: 100%|██████████| 5240/5240 [01:47<00:00, 48.82it/s]\n",
      "eval: 100%|██████████| 583/583 [00:12<00:00, 46.68it/s]\n"
     ]
    },
    {
     "name": "stdout",
     "output_type": "stream",
     "text": [
      "Train loss: 0.0032  Val PRA: 0.9639  Val PAA: 0.9880\n",
      "Saved best model: best_jigsaw.pth\n",
      "Epoch 38/100\n"
     ]
    },
    {
     "name": "stderr",
     "output_type": "stream",
     "text": [
      "train: 100%|██████████| 5240/5240 [01:51<00:00, 47.12it/s]\n",
      "eval: 100%|██████████| 583/583 [00:12<00:00, 46.79it/s]\n"
     ]
    },
    {
     "name": "stdout",
     "output_type": "stream",
     "text": [
      "Train loss: 0.0031  Val PRA: 0.9641  Val PAA: 0.9879\n",
      "Saved best model: best_jigsaw.pth\n",
      "Epoch 39/100\n"
     ]
    },
    {
     "name": "stderr",
     "output_type": "stream",
     "text": [
      "train: 100%|██████████| 5240/5240 [01:50<00:00, 47.34it/s]\n",
      "eval: 100%|██████████| 583/583 [00:12<00:00, 47.09it/s]\n"
     ]
    },
    {
     "name": "stdout",
     "output_type": "stream",
     "text": [
      "Train loss: 0.0030  Val PRA: 0.9608  Val PAA: 0.9873\n",
      "Epoch 40/100\n"
     ]
    },
    {
     "name": "stderr",
     "output_type": "stream",
     "text": [
      "train: 100%|██████████| 5240/5240 [01:51<00:00, 46.81it/s]\n",
      "eval: 100%|██████████| 583/583 [00:12<00:00, 46.67it/s]\n"
     ]
    },
    {
     "name": "stdout",
     "output_type": "stream",
     "text": [
      "Train loss: 0.0032  Val PRA: 0.9641  Val PAA: 0.9881\n",
      "Epoch 41/100\n"
     ]
    },
    {
     "name": "stderr",
     "output_type": "stream",
     "text": [
      "train: 100%|██████████| 5240/5240 [01:49<00:00, 47.86it/s]\n",
      "eval: 100%|██████████| 583/583 [00:12<00:00, 47.89it/s]\n"
     ]
    },
    {
     "name": "stdout",
     "output_type": "stream",
     "text": [
      "Train loss: 0.0024  Val PRA: 0.9653  Val PAA: 0.9885\n",
      "Saved best model: best_jigsaw.pth\n",
      "Epoch 42/100\n"
     ]
    },
    {
     "name": "stderr",
     "output_type": "stream",
     "text": [
      "train: 100%|██████████| 5240/5240 [01:49<00:00, 47.67it/s]\n",
      "eval: 100%|██████████| 583/583 [00:12<00:00, 47.34it/s]\n"
     ]
    },
    {
     "name": "stdout",
     "output_type": "stream",
     "text": [
      "Train loss: 0.0020  Val PRA: 0.9653  Val PAA: 0.9885\n",
      "Epoch 43/100\n"
     ]
    },
    {
     "name": "stderr",
     "output_type": "stream",
     "text": [
      "train: 100%|██████████| 5240/5240 [01:49<00:00, 48.02it/s]\n",
      "eval: 100%|██████████| 583/583 [00:12<00:00, 48.22it/s]\n"
     ]
    },
    {
     "name": "stdout",
     "output_type": "stream",
     "text": [
      "Train loss: 0.0020  Val PRA: 0.9641  Val PAA: 0.9880\n",
      "Epoch 44/100\n"
     ]
    },
    {
     "name": "stderr",
     "output_type": "stream",
     "text": [
      "train: 100%|██████████| 5240/5240 [01:47<00:00, 48.72it/s]\n",
      "eval: 100%|██████████| 583/583 [00:12<00:00, 47.94it/s]\n"
     ]
    },
    {
     "name": "stdout",
     "output_type": "stream",
     "text": [
      "Train loss: 0.0019  Val PRA: 0.9638  Val PAA: 0.9881\n",
      "Epoch 45/100\n"
     ]
    },
    {
     "name": "stderr",
     "output_type": "stream",
     "text": [
      "train: 100%|██████████| 5240/5240 [01:47<00:00, 48.97it/s]\n",
      "eval: 100%|██████████| 583/583 [00:12<00:00, 47.93it/s]\n"
     ]
    },
    {
     "name": "stdout",
     "output_type": "stream",
     "text": [
      "Train loss: 0.0018  Val PRA: 0.9647  Val PAA: 0.9881\n",
      "Epoch 46/100\n"
     ]
    },
    {
     "name": "stderr",
     "output_type": "stream",
     "text": [
      "train: 100%|██████████| 5240/5240 [01:49<00:00, 47.99it/s]\n",
      "eval: 100%|██████████| 583/583 [00:11<00:00, 48.63it/s]\n"
     ]
    },
    {
     "name": "stdout",
     "output_type": "stream",
     "text": [
      "Train loss: 0.0017  Val PRA: 0.9650  Val PAA: 0.9882\n",
      "Epoch 47/100\n"
     ]
    },
    {
     "name": "stderr",
     "output_type": "stream",
     "text": [
      "train: 100%|██████████| 5240/5240 [01:48<00:00, 48.47it/s]\n",
      "eval: 100%|██████████| 583/583 [00:12<00:00, 48.09it/s]\n"
     ]
    },
    {
     "name": "stdout",
     "output_type": "stream",
     "text": [
      "Train loss: 0.0016  Val PRA: 0.9650  Val PAA: 0.9884\n",
      "Epoch 48/100\n"
     ]
    },
    {
     "name": "stderr",
     "output_type": "stream",
     "text": [
      "train: 100%|██████████| 5240/5240 [01:49<00:00, 47.89it/s]\n",
      "eval: 100%|██████████| 583/583 [00:11<00:00, 49.09it/s]\n"
     ]
    },
    {
     "name": "stdout",
     "output_type": "stream",
     "text": [
      "Train loss: 0.0015  Val PRA: 0.9627  Val PAA: 0.9875\n",
      "Epoch 49/100\n"
     ]
    },
    {
     "name": "stderr",
     "output_type": "stream",
     "text": [
      "train: 100%|██████████| 5240/5240 [01:49<00:00, 47.71it/s]\n",
      "eval: 100%|██████████| 583/583 [00:12<00:00, 46.49it/s]\n"
     ]
    },
    {
     "name": "stdout",
     "output_type": "stream",
     "text": [
      "Train loss: 0.0015  Val PRA: 0.9627  Val PAA: 0.9879\n",
      "Epoch 50/100\n"
     ]
    },
    {
     "name": "stderr",
     "output_type": "stream",
     "text": [
      "train: 100%|██████████| 5240/5240 [01:48<00:00, 48.37it/s]\n",
      "eval: 100%|██████████| 583/583 [00:12<00:00, 47.34it/s]\n"
     ]
    },
    {
     "name": "stdout",
     "output_type": "stream",
     "text": [
      "Train loss: 0.0015  Val PRA: 0.9641  Val PAA: 0.9882\n",
      "Epoch 51/100\n"
     ]
    },
    {
     "name": "stderr",
     "output_type": "stream",
     "text": [
      "train: 100%|██████████| 5240/5240 [01:50<00:00, 47.60it/s]\n",
      "eval: 100%|██████████| 583/583 [00:12<00:00, 47.11it/s]\n"
     ]
    },
    {
     "name": "stdout",
     "output_type": "stream",
     "text": [
      "Train loss: 0.0013  Val PRA: 0.9644  Val PAA: 0.9880\n",
      "Epoch 52/100\n"
     ]
    },
    {
     "name": "stderr",
     "output_type": "stream",
     "text": [
      "train: 100%|██████████| 5240/5240 [01:50<00:00, 47.36it/s]\n",
      "eval: 100%|██████████| 583/583 [00:12<00:00, 47.24it/s]\n"
     ]
    },
    {
     "name": "stdout",
     "output_type": "stream",
     "text": [
      "Train loss: 0.0012  Val PRA: 0.9650  Val PAA: 0.9885\n",
      "Epoch 53/100\n"
     ]
    },
    {
     "name": "stderr",
     "output_type": "stream",
     "text": [
      "train: 100%|██████████| 5240/5240 [01:49<00:00, 47.69it/s]\n",
      "eval: 100%|██████████| 583/583 [00:12<00:00, 47.30it/s]\n"
     ]
    },
    {
     "name": "stdout",
     "output_type": "stream",
     "text": [
      "Train loss: 0.0010  Val PRA: 0.9652  Val PAA: 0.9885\n",
      "Epoch 54/100\n"
     ]
    },
    {
     "name": "stderr",
     "output_type": "stream",
     "text": [
      "train: 100%|██████████| 5240/5240 [01:51<00:00, 47.08it/s]\n",
      "eval: 100%|██████████| 583/583 [00:12<00:00, 47.17it/s]\n"
     ]
    },
    {
     "name": "stdout",
     "output_type": "stream",
     "text": [
      "Train loss: 0.0010  Val PRA: 0.9662  Val PAA: 0.9887\n",
      "Saved best model: best_jigsaw.pth\n",
      "Epoch 55/100\n"
     ]
    },
    {
     "name": "stderr",
     "output_type": "stream",
     "text": [
      "train: 100%|██████████| 5240/5240 [01:48<00:00, 48.09it/s]\n",
      "eval: 100%|██████████| 583/583 [00:12<00:00, 48.39it/s]\n"
     ]
    },
    {
     "name": "stdout",
     "output_type": "stream",
     "text": [
      "Train loss: 0.0010  Val PRA: 0.9666  Val PAA: 0.9888\n",
      "Saved best model: best_jigsaw.pth\n",
      "Epoch 56/100\n"
     ]
    },
    {
     "name": "stderr",
     "output_type": "stream",
     "text": [
      "train: 100%|██████████| 5240/5240 [01:48<00:00, 48.20it/s]\n",
      "eval: 100%|██████████| 583/583 [00:12<00:00, 48.26it/s]\n"
     ]
    },
    {
     "name": "stdout",
     "output_type": "stream",
     "text": [
      "Train loss: 0.0008  Val PRA: 0.9649  Val PAA: 0.9883\n",
      "Epoch 57/100\n"
     ]
    },
    {
     "name": "stderr",
     "output_type": "stream",
     "text": [
      "train: 100%|██████████| 5240/5240 [01:47<00:00, 48.74it/s]\n",
      "eval: 100%|██████████| 583/583 [00:12<00:00, 48.02it/s]\n"
     ]
    },
    {
     "name": "stdout",
     "output_type": "stream",
     "text": [
      "Train loss: 0.0009  Val PRA: 0.9649  Val PAA: 0.9884\n",
      "Epoch 58/100\n"
     ]
    },
    {
     "name": "stderr",
     "output_type": "stream",
     "text": [
      "train: 100%|██████████| 5240/5240 [01:49<00:00, 47.65it/s]\n",
      "eval: 100%|██████████| 583/583 [00:11<00:00, 48.60it/s]\n"
     ]
    },
    {
     "name": "stdout",
     "output_type": "stream",
     "text": [
      "Train loss: 0.0009  Val PRA: 0.9659  Val PAA: 0.9885\n",
      "Epoch 59/100\n"
     ]
    },
    {
     "name": "stderr",
     "output_type": "stream",
     "text": [
      "train: 100%|██████████| 5240/5240 [01:48<00:00, 48.18it/s]\n",
      "eval: 100%|██████████| 583/583 [00:11<00:00, 48.70it/s]\n"
     ]
    },
    {
     "name": "stdout",
     "output_type": "stream",
     "text": [
      "Train loss: 0.0008  Val PRA: 0.9643  Val PAA: 0.9882\n",
      "Epoch 60/100\n"
     ]
    },
    {
     "name": "stderr",
     "output_type": "stream",
     "text": [
      "train: 100%|██████████| 5240/5240 [01:48<00:00, 48.25it/s]\n",
      "eval: 100%|██████████| 583/583 [00:12<00:00, 47.17it/s]\n"
     ]
    },
    {
     "name": "stdout",
     "output_type": "stream",
     "text": [
      "Train loss: 0.0008  Val PRA: 0.9647  Val PAA: 0.9881\n",
      "Epoch 61/100\n"
     ]
    },
    {
     "name": "stderr",
     "output_type": "stream",
     "text": [
      "train: 100%|██████████| 5240/5240 [01:50<00:00, 47.37it/s]\n",
      "eval: 100%|██████████| 583/583 [00:12<00:00, 47.21it/s]\n"
     ]
    },
    {
     "name": "stdout",
     "output_type": "stream",
     "text": [
      "Train loss: 0.0007  Val PRA: 0.9663  Val PAA: 0.9885\n",
      "Epoch 62/100\n"
     ]
    },
    {
     "name": "stderr",
     "output_type": "stream",
     "text": [
      "train: 100%|██████████| 5240/5240 [01:49<00:00, 47.85it/s]\n",
      "eval: 100%|██████████| 583/583 [00:12<00:00, 48.46it/s]\n"
     ]
    },
    {
     "name": "stdout",
     "output_type": "stream",
     "text": [
      "Train loss: 0.0008  Val PRA: 0.9664  Val PAA: 0.9886\n",
      "Epoch 63/100\n"
     ]
    },
    {
     "name": "stderr",
     "output_type": "stream",
     "text": [
      "train: 100%|██████████| 5240/5240 [01:48<00:00, 48.33it/s]\n",
      "eval: 100%|██████████| 583/583 [00:12<00:00, 47.29it/s]\n"
     ]
    },
    {
     "name": "stdout",
     "output_type": "stream",
     "text": [
      "Train loss: 0.0007  Val PRA: 0.9659  Val PAA: 0.9886\n",
      "Epoch 64/100\n"
     ]
    },
    {
     "name": "stderr",
     "output_type": "stream",
     "text": [
      "train: 100%|██████████| 5240/5240 [01:50<00:00, 47.62it/s]\n",
      "eval: 100%|██████████| 583/583 [00:12<00:00, 47.65it/s]\n"
     ]
    },
    {
     "name": "stdout",
     "output_type": "stream",
     "text": [
      "Train loss: 0.0007  Val PRA: 0.9653  Val PAA: 0.9884\n",
      "Epoch 65/100\n"
     ]
    },
    {
     "name": "stderr",
     "output_type": "stream",
     "text": [
      "train: 100%|██████████| 5240/5240 [01:49<00:00, 48.03it/s]\n",
      "eval: 100%|██████████| 583/583 [00:12<00:00, 47.70it/s]\n"
     ]
    },
    {
     "name": "stdout",
     "output_type": "stream",
     "text": [
      "Train loss: 0.0007  Val PRA: 0.9658  Val PAA: 0.9884\n",
      "Epoch 66/100\n"
     ]
    },
    {
     "name": "stderr",
     "output_type": "stream",
     "text": [
      "train: 100%|██████████| 5240/5240 [01:50<00:00, 47.53it/s]\n",
      "eval: 100%|██████████| 583/583 [00:12<00:00, 46.60it/s]\n"
     ]
    },
    {
     "name": "stdout",
     "output_type": "stream",
     "text": [
      "Train loss: 0.0007  Val PRA: 0.9648  Val PAA: 0.9884\n",
      "Epoch 67/100\n"
     ]
    },
    {
     "name": "stderr",
     "output_type": "stream",
     "text": [
      "train: 100%|██████████| 5240/5240 [01:52<00:00, 46.53it/s]\n",
      "eval: 100%|██████████| 583/583 [00:12<00:00, 47.80it/s]\n"
     ]
    },
    {
     "name": "stdout",
     "output_type": "stream",
     "text": [
      "Train loss: 0.0006  Val PRA: 0.9660  Val PAA: 0.9887\n",
      "Epoch 68/100\n"
     ]
    },
    {
     "name": "stderr",
     "output_type": "stream",
     "text": [
      "train: 100%|██████████| 5240/5240 [01:47<00:00, 48.65it/s]\n",
      "eval: 100%|██████████| 583/583 [00:12<00:00, 45.83it/s]\n"
     ]
    },
    {
     "name": "stdout",
     "output_type": "stream",
     "text": [
      "Train loss: 0.0006  Val PRA: 0.9656  Val PAA: 0.9886\n",
      "Epoch 69/100\n"
     ]
    },
    {
     "name": "stderr",
     "output_type": "stream",
     "text": [
      "train: 100%|██████████| 5240/5240 [01:50<00:00, 47.46it/s]\n",
      "eval: 100%|██████████| 583/583 [00:12<00:00, 48.21it/s]\n"
     ]
    },
    {
     "name": "stdout",
     "output_type": "stream",
     "text": [
      "Train loss: 0.0006  Val PRA: 0.9656  Val PAA: 0.9885\n",
      "Epoch 70/100\n"
     ]
    },
    {
     "name": "stderr",
     "output_type": "stream",
     "text": [
      "train: 100%|██████████| 5240/5240 [01:49<00:00, 48.02it/s]\n",
      "eval: 100%|██████████| 583/583 [00:12<00:00, 48.05it/s]\n"
     ]
    },
    {
     "name": "stdout",
     "output_type": "stream",
     "text": [
      "Train loss: 0.0006  Val PRA: 0.9656  Val PAA: 0.9886\n",
      "Epoch 71/100\n"
     ]
    },
    {
     "name": "stderr",
     "output_type": "stream",
     "text": [
      "train: 100%|██████████| 5240/5240 [01:48<00:00, 48.41it/s]\n",
      "eval: 100%|██████████| 583/583 [00:12<00:00, 48.00it/s]\n"
     ]
    },
    {
     "name": "stdout",
     "output_type": "stream",
     "text": [
      "Train loss: 0.0005  Val PRA: 0.9656  Val PAA: 0.9886\n",
      "Epoch 72/100\n"
     ]
    },
    {
     "name": "stderr",
     "output_type": "stream",
     "text": [
      "train: 100%|██████████| 5240/5240 [01:47<00:00, 48.82it/s]\n",
      "eval: 100%|██████████| 583/583 [00:12<00:00, 47.71it/s]\n"
     ]
    },
    {
     "name": "stdout",
     "output_type": "stream",
     "text": [
      "Train loss: 0.0006  Val PRA: 0.9659  Val PAA: 0.9887\n",
      "Epoch 73/100\n"
     ]
    },
    {
     "name": "stderr",
     "output_type": "stream",
     "text": [
      "train: 100%|██████████| 5240/5240 [01:50<00:00, 47.35it/s]\n",
      "eval: 100%|██████████| 583/583 [00:12<00:00, 46.94it/s]\n"
     ]
    },
    {
     "name": "stdout",
     "output_type": "stream",
     "text": [
      "Train loss: 0.0006  Val PRA: 0.9659  Val PAA: 0.9886\n",
      "Epoch 74/100\n"
     ]
    },
    {
     "name": "stderr",
     "output_type": "stream",
     "text": [
      "train: 100%|██████████| 5240/5240 [01:49<00:00, 48.03it/s]\n",
      "eval: 100%|██████████| 583/583 [00:12<00:00, 48.11it/s]\n"
     ]
    },
    {
     "name": "stdout",
     "output_type": "stream",
     "text": [
      "Train loss: 0.0006  Val PRA: 0.9654  Val PAA: 0.9885\n",
      "Epoch 75/100\n"
     ]
    },
    {
     "name": "stderr",
     "output_type": "stream",
     "text": [
      "train: 100%|██████████| 5240/5240 [01:50<00:00, 47.41it/s]\n",
      "eval: 100%|██████████| 583/583 [00:12<00:00, 46.61it/s]\n"
     ]
    },
    {
     "name": "stdout",
     "output_type": "stream",
     "text": [
      "Train loss: 0.0005  Val PRA: 0.9664  Val PAA: 0.9887\n",
      "Epoch 76/100\n"
     ]
    },
    {
     "name": "stderr",
     "output_type": "stream",
     "text": [
      "train: 100%|██████████| 5240/5240 [01:49<00:00, 47.95it/s]\n",
      "eval: 100%|██████████| 583/583 [00:12<00:00, 47.13it/s]\n"
     ]
    },
    {
     "name": "stdout",
     "output_type": "stream",
     "text": [
      "Train loss: 0.0005  Val PRA: 0.9669  Val PAA: 0.9889\n",
      "Saved best model: best_jigsaw.pth\n",
      "Epoch 77/100\n"
     ]
    },
    {
     "name": "stderr",
     "output_type": "stream",
     "text": [
      "train: 100%|██████████| 5240/5240 [01:50<00:00, 47.41it/s]\n",
      "eval: 100%|██████████| 583/583 [00:12<00:00, 48.30it/s]\n"
     ]
    },
    {
     "name": "stdout",
     "output_type": "stream",
     "text": [
      "Train loss: 0.0005  Val PRA: 0.9661  Val PAA: 0.9888\n",
      "Epoch 78/100\n"
     ]
    },
    {
     "name": "stderr",
     "output_type": "stream",
     "text": [
      "train: 100%|██████████| 5240/5240 [01:48<00:00, 48.19it/s]\n",
      "eval: 100%|██████████| 583/583 [00:12<00:00, 47.75it/s]\n"
     ]
    },
    {
     "name": "stdout",
     "output_type": "stream",
     "text": [
      "Train loss: 0.0005  Val PRA: 0.9659  Val PAA: 0.9888\n",
      "Epoch 79/100\n"
     ]
    },
    {
     "name": "stderr",
     "output_type": "stream",
     "text": [
      "train: 100%|██████████| 5240/5240 [01:51<00:00, 47.10it/s]\n",
      "eval: 100%|██████████| 583/583 [00:12<00:00, 47.51it/s]\n"
     ]
    },
    {
     "name": "stdout",
     "output_type": "stream",
     "text": [
      "Train loss: 0.0005  Val PRA: 0.9680  Val PAA: 0.9892\n",
      "Saved best model: best_jigsaw.pth\n",
      "Epoch 80/100\n"
     ]
    },
    {
     "name": "stderr",
     "output_type": "stream",
     "text": [
      "train: 100%|██████████| 5240/5240 [01:49<00:00, 48.05it/s]\n",
      "eval: 100%|██████████| 583/583 [00:12<00:00, 47.82it/s]\n"
     ]
    },
    {
     "name": "stdout",
     "output_type": "stream",
     "text": [
      "Train loss: 0.0005  Val PRA: 0.9658  Val PAA: 0.9885\n",
      "Epoch 81/100\n"
     ]
    },
    {
     "name": "stderr",
     "output_type": "stream",
     "text": [
      "train: 100%|██████████| 5240/5240 [01:50<00:00, 47.33it/s]\n",
      "eval: 100%|██████████| 583/583 [00:11<00:00, 48.62it/s]\n"
     ]
    },
    {
     "name": "stdout",
     "output_type": "stream",
     "text": [
      "Train loss: 0.0004  Val PRA: 0.9660  Val PAA: 0.9886\n",
      "Epoch 82/100\n"
     ]
    },
    {
     "name": "stderr",
     "output_type": "stream",
     "text": [
      "train: 100%|██████████| 5240/5240 [01:50<00:00, 47.49it/s]\n",
      "eval: 100%|██████████| 583/583 [00:12<00:00, 47.10it/s]\n"
     ]
    },
    {
     "name": "stdout",
     "output_type": "stream",
     "text": [
      "Train loss: 0.0005  Val PRA: 0.9662  Val PAA: 0.9887\n",
      "Epoch 83/100\n"
     ]
    },
    {
     "name": "stderr",
     "output_type": "stream",
     "text": [
      "train: 100%|██████████| 5240/5240 [01:48<00:00, 48.39it/s]\n",
      "eval: 100%|██████████| 583/583 [00:12<00:00, 46.49it/s]\n"
     ]
    },
    {
     "name": "stdout",
     "output_type": "stream",
     "text": [
      "Train loss: 0.0004  Val PRA: 0.9659  Val PAA: 0.9886\n",
      "Epoch 84/100\n"
     ]
    },
    {
     "name": "stderr",
     "output_type": "stream",
     "text": [
      "train: 100%|██████████| 5240/5240 [01:50<00:00, 47.29it/s]\n",
      "eval: 100%|██████████| 583/583 [00:12<00:00, 48.23it/s]\n"
     ]
    },
    {
     "name": "stdout",
     "output_type": "stream",
     "text": [
      "Train loss: 0.0005  Val PRA: 0.9651  Val PAA: 0.9884\n",
      "Epoch 85/100\n"
     ]
    },
    {
     "name": "stderr",
     "output_type": "stream",
     "text": [
      "train: 100%|██████████| 5240/5240 [01:49<00:00, 47.99it/s]\n",
      "eval: 100%|██████████| 583/583 [00:12<00:00, 48.47it/s]\n"
     ]
    },
    {
     "name": "stdout",
     "output_type": "stream",
     "text": [
      "Train loss: 0.0005  Val PRA: 0.9666  Val PAA: 0.9888\n",
      "Epoch 86/100\n"
     ]
    },
    {
     "name": "stderr",
     "output_type": "stream",
     "text": [
      "train: 100%|██████████| 5240/5240 [01:49<00:00, 47.96it/s]\n",
      "eval: 100%|██████████| 583/583 [00:12<00:00, 48.58it/s]\n"
     ]
    },
    {
     "name": "stdout",
     "output_type": "stream",
     "text": [
      "Train loss: 0.0005  Val PRA: 0.9663  Val PAA: 0.9887\n",
      "Epoch 87/100\n"
     ]
    },
    {
     "name": "stderr",
     "output_type": "stream",
     "text": [
      "train: 100%|██████████| 5240/5240 [01:51<00:00, 46.92it/s]\n",
      "eval: 100%|██████████| 583/583 [00:12<00:00, 48.27it/s]\n"
     ]
    },
    {
     "name": "stdout",
     "output_type": "stream",
     "text": [
      "Train loss: 0.0005  Val PRA: 0.9669  Val PAA: 0.9888\n",
      "Epoch 88/100\n"
     ]
    },
    {
     "name": "stderr",
     "output_type": "stream",
     "text": [
      "train: 100%|██████████| 5240/5240 [01:50<00:00, 47.54it/s]\n",
      "eval: 100%|██████████| 583/583 [00:12<00:00, 48.00it/s]\n"
     ]
    },
    {
     "name": "stdout",
     "output_type": "stream",
     "text": [
      "Train loss: 0.0004  Val PRA: 0.9661  Val PAA: 0.9885\n",
      "Epoch 89/100\n"
     ]
    },
    {
     "name": "stderr",
     "output_type": "stream",
     "text": [
      "train: 100%|██████████| 5240/5240 [01:51<00:00, 47.17it/s]\n",
      "eval: 100%|██████████| 583/583 [00:11<00:00, 48.91it/s]\n"
     ]
    },
    {
     "name": "stdout",
     "output_type": "stream",
     "text": [
      "Train loss: 0.0005  Val PRA: 0.9660  Val PAA: 0.9887\n",
      "Epoch 90/100\n"
     ]
    },
    {
     "name": "stderr",
     "output_type": "stream",
     "text": [
      "train: 100%|██████████| 5240/5240 [01:50<00:00, 47.26it/s]\n",
      "eval: 100%|██████████| 583/583 [00:12<00:00, 48.07it/s]\n"
     ]
    },
    {
     "name": "stdout",
     "output_type": "stream",
     "text": [
      "Train loss: 0.0004  Val PRA: 0.9669  Val PAA: 0.9890\n",
      "Epoch 91/100\n"
     ]
    },
    {
     "name": "stderr",
     "output_type": "stream",
     "text": [
      "train: 100%|██████████| 5240/5240 [01:50<00:00, 47.49it/s]\n",
      "eval: 100%|██████████| 583/583 [00:12<00:00, 48.41it/s]\n"
     ]
    },
    {
     "name": "stdout",
     "output_type": "stream",
     "text": [
      "Train loss: 0.0005  Val PRA: 0.9652  Val PAA: 0.9884\n",
      "Epoch 92/100\n"
     ]
    },
    {
     "name": "stderr",
     "output_type": "stream",
     "text": [
      "train: 100%|██████████| 5240/5240 [01:47<00:00, 48.64it/s]\n",
      "eval: 100%|██████████| 583/583 [00:12<00:00, 48.02it/s]\n"
     ]
    },
    {
     "name": "stdout",
     "output_type": "stream",
     "text": [
      "Train loss: 0.0004  Val PRA: 0.9656  Val PAA: 0.9885\n",
      "Epoch 93/100\n"
     ]
    },
    {
     "name": "stderr",
     "output_type": "stream",
     "text": [
      "train: 100%|██████████| 5240/5240 [01:50<00:00, 47.33it/s]\n",
      "eval: 100%|██████████| 583/583 [00:12<00:00, 47.36it/s]\n"
     ]
    },
    {
     "name": "stdout",
     "output_type": "stream",
     "text": [
      "Train loss: 0.0004  Val PRA: 0.9659  Val PAA: 0.9884\n",
      "Epoch 94/100\n"
     ]
    },
    {
     "name": "stderr",
     "output_type": "stream",
     "text": [
      "train: 100%|██████████| 5240/5240 [01:50<00:00, 47.39it/s]\n",
      "eval: 100%|██████████| 583/583 [00:12<00:00, 47.75it/s]\n"
     ]
    },
    {
     "name": "stdout",
     "output_type": "stream",
     "text": [
      "Train loss: 0.0004  Val PRA: 0.9661  Val PAA: 0.9887\n",
      "Epoch 95/100\n"
     ]
    },
    {
     "name": "stderr",
     "output_type": "stream",
     "text": [
      "train: 100%|██████████| 5240/5240 [01:50<00:00, 47.58it/s]\n",
      "eval: 100%|██████████| 583/583 [00:12<00:00, 48.12it/s]\n"
     ]
    },
    {
     "name": "stdout",
     "output_type": "stream",
     "text": [
      "Train loss: 0.0004  Val PRA: 0.9653  Val PAA: 0.9884\n",
      "Epoch 96/100\n"
     ]
    },
    {
     "name": "stderr",
     "output_type": "stream",
     "text": [
      "train: 100%|██████████| 5240/5240 [01:49<00:00, 48.07it/s]\n",
      "eval: 100%|██████████| 583/583 [00:12<00:00, 47.07it/s]\n"
     ]
    },
    {
     "name": "stdout",
     "output_type": "stream",
     "text": [
      "Train loss: 0.0005  Val PRA: 0.9673  Val PAA: 0.9891\n",
      "Epoch 97/100\n"
     ]
    },
    {
     "name": "stderr",
     "output_type": "stream",
     "text": [
      "train: 100%|██████████| 5240/5240 [01:49<00:00, 47.87it/s]\n",
      "eval: 100%|██████████| 583/583 [00:12<00:00, 47.77it/s]\n"
     ]
    },
    {
     "name": "stdout",
     "output_type": "stream",
     "text": [
      "Train loss: 0.0004  Val PRA: 0.9662  Val PAA: 0.9887\n",
      "Epoch 98/100\n"
     ]
    },
    {
     "name": "stderr",
     "output_type": "stream",
     "text": [
      "train: 100%|██████████| 5240/5240 [01:50<00:00, 47.64it/s]\n",
      "eval: 100%|██████████| 583/583 [00:12<00:00, 46.70it/s]\n"
     ]
    },
    {
     "name": "stdout",
     "output_type": "stream",
     "text": [
      "Train loss: 0.0005  Val PRA: 0.9663  Val PAA: 0.9888\n",
      "Epoch 99/100\n"
     ]
    },
    {
     "name": "stderr",
     "output_type": "stream",
     "text": [
      "train: 100%|██████████| 5240/5240 [01:49<00:00, 47.77it/s]\n",
      "eval: 100%|██████████| 583/583 [00:12<00:00, 47.89it/s]\n"
     ]
    },
    {
     "name": "stdout",
     "output_type": "stream",
     "text": [
      "Train loss: 0.0004  Val PRA: 0.9669  Val PAA: 0.9889\n",
      "Epoch 100/100\n"
     ]
    },
    {
     "name": "stderr",
     "output_type": "stream",
     "text": [
      "train: 100%|██████████| 5240/5240 [01:47<00:00, 48.58it/s]\n",
      "eval: 100%|██████████| 583/583 [00:12<00:00, 48.02it/s]"
     ]
    },
    {
     "name": "stdout",
     "output_type": "stream",
     "text": [
      "Train loss: 0.0004  Val PRA: 0.9669  Val PAA: 0.9889\n",
      "Training complete. Best model saved to best_jigsaw.pth with PRA: 0.9680\n"
     ]
    },
    {
     "name": "stderr",
     "output_type": "stream",
     "text": [
      "\n"
     ]
    }
   ],
   "source": [
    "main(args)"
   ]
  },
  {
   "cell_type": "code",
   "execution_count": null,
   "metadata": {},
   "outputs": [],
   "source": []
  },
  {
   "cell_type": "code",
   "execution_count": null,
   "metadata": {},
   "outputs": [],
   "source": [
    "# To predict the output run the following command:\n",
    "\"\"\"\n",
    "python code.py --image_dir valid \\\n",
    "                  --model_path best_jigsaw.pth \\\n",
    "                  --csv_output predictions.csv \\\n",
    "                  --json_output predictions.json\n",
    "\"\"\"\n",
    "# OR \n",
    "              \n",
    "# python code.py --image_dir valid --model_path best_jigsaw.pth --csv_output predictions.csv --json_output predictions.json\n",
    "\n",
    "\n",
    "import os\n",
    "import csv\n",
    "import json\n",
    "import argparse\n",
    "from pathlib import Path\n",
    "from PIL import Image\n",
    "import numpy as np\n",
    "from tqdm import tqdm\n",
    "\n",
    "import torch\n",
    "import torch.nn as nn\n",
    "import torch.nn.functional as F\n",
    "from torchvision import transforms, models\n",
    "from scipy.optimize import linear_sum_assignment\n",
    "\n",
    "\n",
    "class TileTransformer(nn.Module):\n",
    "    \"\"\"\n",
    "    Defines the model architecture. Must be identical to the\n",
    "    class used during training to load the state_dict.\n",
    "    \"\"\"\n",
    "    def __init__(self, tile_encoder='resnet18', embed_dim=512, nhead=8, nlayers=3, dropout=0.1):\n",
    "        super().__init__()\n",
    "        res = models.resnet18(pretrained=False) # Set pretrained=False for inference if not needed\n",
    "        res.fc = nn.Identity()\n",
    "        self.backbone = res  # outputs 512-d for resnet18\n",
    "        self.embed_dim = 512\n",
    "        if self.embed_dim != embed_dim:\n",
    "            self.proj = nn.Linear(self.embed_dim, embed_dim)\n",
    "            final_dim = embed_dim\n",
    "        else:\n",
    "            self.proj = None\n",
    "            final_dim = self.embed_dim\n",
    "        encoder_layer = nn.TransformerEncoderLayer(d_model=final_dim, nhead=nhead, dropout=dropout, dim_feedforward=final_dim*4, activation='gelu')\n",
    "        self.transformer = nn.TransformerEncoder(encoder_layer, num_layers=nlayers)\n",
    "        self.head = nn.Linear(final_dim, 9)\n",
    "\n",
    "    def forward(self, tiles):\n",
    "        B = tiles.shape[0]\n",
    "        n = tiles.shape[1]  # 9\n",
    "        tiles_flat = tiles.view(B*n, tiles.shape[2], tiles.shape[3], tiles.shape[4])\n",
    "        x = self.backbone(tiles_flat)  # (B*n, 512)\n",
    "        if self.proj is not None:\n",
    "            x = self.proj(x)  # (B*n, embed_dim)\n",
    "        x = x.view(B, n, -1)  # (B, 9, D)\n",
    "        # transformer expects seq_len, batch, dim\n",
    "        x_t = x.permute(1, 0, 2)\n",
    "        x_out = self.transformer(x_t)  \n",
    "        x_out = x_out.permute(1, 0, 2)  \n",
    "        logits = self.head(x_out)  #  per tile logits over positions\n",
    "        return logits\n",
    "\n",
    "def hungarian_from_logits(logits):\n",
    "\n",
    "    if isinstance(logits, torch.Tensor):\n",
    "        arr = logits.detach().cpu().numpy()\n",
    "    else:\n",
    "        arr = np.array(logits)\n",
    "    cost = -arr\n",
    "    row_ind, col_ind = linear_sum_assignment(cost)\n",
    "    perm = [-1]*arr.shape[0]\n",
    "    for r,c in zip(row_ind, col_ind):\n",
    "        perm[r] = int(c)\n",
    "    return perm\n",
    "\n",
    "def infer_single_image(model, image_path, image_size=201, device='cpu'):\n",
    "\n",
    "    to_tensor = transforms.Compose([\n",
    "        transforms.ToTensor(),\n",
    "        transforms.Normalize(mean=[0.485,0.456,0.406],\n",
    "                             std=[0.229,0.224,0.225])\n",
    "    ])\n",
    "    \n",
    "    try:\n",
    "        img = Image.open(image_path).convert('RGB')\n",
    "        img = img.resize((image_size, image_size), Image.BILINEAR)\n",
    "        img = np.array(img).astype(np.uint8)\n",
    "    except Exception as e:\n",
    "        print(f\"Error opening or resizing image {image_path}: {e}\")\n",
    "        return None\n",
    "\n",
    "    cut = image_size // 3\n",
    "    tiles = []\n",
    "    \n",
    "    for i in range(3):\n",
    "        for j in range(3):\n",
    "            tile = img[i*cut:(i+1)*cut, j*cut:(j+1)*cut, :]\n",
    "            tile_img = Image.fromarray(tile)\n",
    "            tiles.append(to_tensor(tile_img))\n",
    "            \n",
    "    tiles = torch.stack(tiles).unsqueeze(0).to(device)  # (1, 9, C, H, W)\n",
    "    \n",
    "    model.eval()\n",
    "    with torch.no_grad():\n",
    "        logits = model(tiles)[0]  # (9, 9)\n",
    "        perm = hungarian_from_logits(logits)\n",
    "        \n",
    "    return perm\n",
    "\n",
    "\n",
    "def run_inference(model_path, image_dir, csv_output_path, json_output_path, tile_size, force_cpu):\n",
    "    \"\"\"\n",
    "    Main function to run inference on a directory of images.\n",
    "    \"\"\"\n",
    "    device = torch.device('cuda' if torch.cuda.is_available() and not force_cpu else 'cpu')\n",
    "    print(f\"Using device: {device}\")\n",
    "\n",
    "    image_size = tile_size * 3\n",
    "    print(f\"Using tile size: {tile_size}, full image size: {image_size}x{image_size}\")\n",
    "\n",
    "    print(\"Loading model...\")\n",
    "    model = TileTransformer(\n",
    "        tile_encoder='resnet18', \n",
    "        embed_dim=512, \n",
    "        nhead=8, \n",
    "        nlayers=3\n",
    "    ).to(device)\n",
    "    \n",
    "    try:\n",
    "        model.load_state_dict(torch.load(model_path, map_location=device))\n",
    "    except FileNotFoundError:\n",
    "        print(f\"Error: Model file not found at {model_path}\")\n",
    "        return\n",
    "    except Exception as e:\n",
    "        print(f\"Error loading model state_dict: {e}\")\n",
    "        print(\"Ensure the model architecture in this script matches the one used for training.\")\n",
    "        return\n",
    "        \n",
    "    model.eval()\n",
    "    print(\"Model loaded successfully.\")\n",
    "\n",
    "    image_extensions = {'.jpg', '.jpeg', '.png', '.bmp', '.gif', '.tif', '.tiff'}\n",
    "    image_files = sorted([\n",
    "        f for f in os.listdir(image_dir) \n",
    "        if os.path.splitext(f)[1].lower() in image_extensions\n",
    "    ])\n",
    "    \n",
    "    if not image_files:\n",
    "        print(f\"No images found in directory: {image_dir}\")\n",
    "        return\n",
    "\n",
    "    print(f\"Found {len(image_files)} images to process...\")\n",
    "\n",
    "    all_results = []\n",
    "    for filename in tqdm(image_files, desc=\"Predicting\"):\n",
    "        image_path = os.path.join(image_dir, filename)\n",
    "        \n",
    "        perm_list = infer_single_image(model, image_path, image_size=image_size, device=device)\n",
    "        \n",
    "        if perm_list:\n",
    "            perm_string = \" \".join(str(p) for p in perm_list)\n",
    "            \n",
    "            all_results.append({\n",
    "                \"filename\": filename,\n",
    "                \"sequence_list\": perm_list,\n",
    "                \"sequence_string\": perm_string\n",
    "            })\n",
    "        else:\n",
    "            print(f\"Skipping corrupt or unreadable file: {filename}\")\n",
    "\n",
    "    print(f\"Saving CSV results to {csv_output_path}...\")\n",
    "    try:\n",
    "        with open(csv_output_path, 'w', newline='', encoding='utf-8') as f:\n",
    "            writer = csv.writer(f)\n",
    "            writer.writerow([\"filename\", \"sequence\"])\n",
    "            for res in all_results:\n",
    "                writer.writerow([res[\"filename\"], res[\"sequence_string\"]])\n",
    "    except Exception as e:\n",
    "        print(f\"Error saving CSV file: {e}\")\n",
    "\n",
    "    print(f\"Saving JSON results to {json_output_path}...\")\n",
    "    json_data = {\n",
    "        \"images\": [\n",
    "            {\n",
    "                \"filename\": res[\"filename\"],\n",
    "                \"sequence\": res[\"sequence_list\"]\n",
    "            } for res in all_results\n",
    "        ]\n",
    "    }\n",
    "    \n",
    "    try:\n",
    "        with open(json_output_path, 'w', encoding='utf-8') as f:\n",
    "            json.dump(json_data, f, indent=2)\n",
    "    except Exception as e:\n",
    "        print(f\"Error saving JSON file: {e}\")\n",
    "        \n",
    "    print(\"\\nInference complete.\")\n",
    "    print(f\"CSV saved to: {csv_output_path}\")\n",
    "    print(f\"JSON saved to: {json_output_path}\")\n",
    "\n",
    "# -----------------------------------------------------------\n",
    "\n",
    "if __name__ == \"__main__\":\n",
    "    parser = argparse.ArgumentParser(description=\"Jigsaw Puzzle Inference Script\")\n",
    "    \n",
    "    parser.add_argument(\n",
    "        \"--image_dir\", \n",
    "        type=str, \n",
    "        required=True, \n",
    "        help=\"Path to the directory containing images for inference.\"\n",
    "    )\n",
    "    parser.add_argument(\n",
    "        \"--model_path\", \n",
    "        type=str, \n",
    "        required=True, \n",
    "        help=\"Path to the saved model file (e.g., 'best_jigsaw.pth').\"\n",
    "    )\n",
    "    parser.add_argument(\n",
    "        \"--csv_output\", \n",
    "        type=str, \n",
    "        default=\"predictions.csv\", \n",
    "        help=\"Path to save the output CSV file.\"\n",
    "    )\n",
    "    parser.add_argument(\n",
    "        \"--json_output\", \n",
    "        type=str, \n",
    "        default=\"predictions.json\", \n",
    "        help=\"Path to save the output JSON file.\"\n",
    "    )\n",
    "    parser.add_argument(\n",
    "        \"--tile_size\", \n",
    "        type=int, \n",
    "        default=67, \n",
    "        help=\"Tile size used during training. (Default: 67, as in your script)\"\n",
    "    )\n",
    "    parser.add_argument(\n",
    "        \"--force_cpu\", \n",
    "        action='store_true', \n",
    "        help=\"Force use of CPU even if CUDA is available.\"\n",
    "    )\n",
    "\n",
    "    args = parser.parse_args()\n",
    "\n",
    "    run_inference(\n",
    "        model_path=args.model_path,\n",
    "        image_dir=args.image_dir,\n",
    "        csv_output_path=args.csv_output,\n",
    "        json_output_path=args.json_output,\n",
    "        tile_size=args.tile_size,\n",
    "        force_cpu=args.force_cpu\n",
    "    )"
   ]
  },
  {
   "cell_type": "code",
   "execution_count": null,
   "metadata": {},
   "outputs": [],
   "source": []
  },
  {
   "cell_type": "code",
   "execution_count": null,
   "metadata": {},
   "outputs": [],
   "source": []
  }
 ],
 "metadata": {
  "language_info": {
   "name": "python"
  }
 },
 "nbformat": 4,
 "nbformat_minor": 2
}
